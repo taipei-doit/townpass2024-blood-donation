{
 "cells": [
  {
   "cell_type": "markdown",
   "id": "45f07aac",
   "metadata": {},
   "source": [
    "# Load Packages"
   ]
  },
  {
   "cell_type": "code",
   "execution_count": 2,
   "id": "7354b6a8",
   "metadata": {
    "execution": {
     "iopub.execute_input": "2024-10-04T03:01:33.759327Z",
     "iopub.status.busy": "2024-10-04T03:01:33.758574Z",
     "iopub.status.idle": "2024-10-04T03:01:36.103650Z",
     "shell.execute_reply": "2024-10-04T03:01:36.103071Z",
     "shell.execute_reply.started": "2024-10-04T03:01:33.759272Z"
    },
    "tags": []
   },
   "outputs": [
    {
     "name": "stderr",
     "output_type": "stream",
     "text": [
      "/Users/tim.cho/opt/anaconda3/envs/mac_k2/lib/python3.7/site-packages/geopandas/_compat.py:115: UserWarning: The Shapely GEOS version (3.10.3-CAPI-1.16.1) is incompatible with the GEOS version PyGEOS was compiled with (3.10.4-CAPI-1.16.2). Conversions between both will be slow.\n",
      "  shapely_geos_version, geos_capi_version_string\n"
     ]
    }
   ],
   "source": [
    "import os, datetime, glob, re, json, requests, time\n",
    "from bs4 import BeautifulSoup\n",
    "from datetime import datetime, timedelta\n",
    "import googlemaps\n",
    "import numpy as np\n",
    "import pandas as pd\n",
    "import geopandas as gpd\n",
    "from pandas import json_normalize\n",
    "\n",
    "import warnings\n",
    "pd.options.mode.chained_assignment = None\n",
    "warnings.filterwarnings(\"ignore\")"
   ]
  },
  {
   "cell_type": "code",
   "execution_count": null,
   "id": "309e7711",
   "metadata": {},
   "outputs": [],
   "source": []
  },
  {
   "cell_type": "markdown",
   "id": "76e6ca6f",
   "metadata": {},
   "source": [
    "# Data Clean"
   ]
  },
  {
   "cell_type": "markdown",
   "id": "a07f38eb",
   "metadata": {},
   "source": [
    "## 捐血中心位置"
   ]
  },
  {
   "cell_type": "code",
   "execution_count": 3,
   "id": "bbd008a8",
   "metadata": {
    "execution": {
     "iopub.execute_input": "2024-10-04T03:01:36.105417Z",
     "iopub.status.busy": "2024-10-04T03:01:36.105063Z",
     "iopub.status.idle": "2024-10-04T03:01:36.152283Z",
     "shell.execute_reply": "2024-10-04T03:01:36.151649Z",
     "shell.execute_reply.started": "2024-10-04T03:01:36.105391Z"
    },
    "tags": []
   },
   "outputs": [
    {
     "data": {
      "text/html": [
       "<div>\n",
       "<style scoped>\n",
       "    .dataframe tbody tr th:only-of-type {\n",
       "        vertical-align: middle;\n",
       "    }\n",
       "\n",
       "    .dataframe tbody tr th {\n",
       "        vertical-align: top;\n",
       "    }\n",
       "\n",
       "    .dataframe thead th {\n",
       "        text-align: right;\n",
       "    }\n",
       "</style>\n",
       "<table border=\"1\" class=\"dataframe\">\n",
       "  <thead>\n",
       "    <tr style=\"text-align: right;\">\n",
       "      <th></th>\n",
       "      <th>捐血室名稱</th>\n",
       "      <th>行政區</th>\n",
       "      <th>設站地址</th>\n",
       "    </tr>\n",
       "  </thead>\n",
       "  <tbody>\n",
       "    <tr>\n",
       "      <th>0</th>\n",
       "      <td>關渡捐血室</td>\n",
       "      <td>63000120</td>\n",
       "      <td>台北市北投區立德路123號</td>\n",
       "    </tr>\n",
       "    <tr>\n",
       "      <th>1</th>\n",
       "      <td>市府捐血室</td>\n",
       "      <td>63000020</td>\n",
       "      <td>台北市信義區市府路1號</td>\n",
       "    </tr>\n",
       "    <tr>\n",
       "      <th>2</th>\n",
       "      <td>長春捐血室</td>\n",
       "      <td>63000010</td>\n",
       "      <td>台北市松山區復興北路69號5樓</td>\n",
       "    </tr>\n",
       "    <tr>\n",
       "      <th>3</th>\n",
       "      <td>南海捐血室</td>\n",
       "      <td>63000050</td>\n",
       "      <td>台北市中正區南海路1號3樓</td>\n",
       "    </tr>\n",
       "    <tr>\n",
       "      <th>4</th>\n",
       "      <td>公園號捐血車</td>\n",
       "      <td>63000050</td>\n",
       "      <td>台北市中正區襄陽路2號</td>\n",
       "    </tr>\n",
       "  </tbody>\n",
       "</table>\n",
       "</div>"
      ],
      "text/plain": [
       "    捐血室名稱       行政區             設站地址\n",
       "0   關渡捐血室  63000120    台北市北投區立德路123號\n",
       "1   市府捐血室  63000020      台北市信義區市府路1號\n",
       "2   長春捐血室  63000010  台北市松山區復興北路69號5樓\n",
       "3   南海捐血室  63000050    台北市中正區南海路1號3樓\n",
       "4  公園號捐血車  63000050      台北市中正區襄陽路2號"
      ]
     },
     "execution_count": 3,
     "metadata": {},
     "output_type": "execute_result"
    }
   ],
   "source": [
    "# 檔案名稱：poi_clean_cht.csv \n",
    "# 臺北市捐血中心固定捐血點，政府公開資料：https://data.gov.tw/dataset/132446\n",
    "path = r\"/Users/tim.cho/Documents/project_me/y2024_tppass/臺北市捐血中心固定捐血點_捐血室.csv\"\n",
    "df_捐血中心 = pd.read_csv(path, encoding='big5')\n",
    "df_捐血中心.head()"
   ]
  },
  {
   "cell_type": "code",
   "execution_count": null,
   "id": "0a1f4880",
   "metadata": {},
   "outputs": [],
   "source": []
  },
  {
   "cell_type": "markdown",
   "id": "25f8d18f",
   "metadata": {},
   "source": [
    "## POI data"
   ]
  },
  {
   "cell_type": "code",
   "execution_count": 36,
   "id": "2d6b2661",
   "metadata": {
    "execution": {
     "iopub.execute_input": "2024-10-03T17:28:40.859829Z",
     "iopub.status.busy": "2024-10-03T17:28:40.859004Z",
     "iopub.status.idle": "2024-10-03T17:28:40.906276Z",
     "shell.execute_reply": "2024-10-03T17:28:40.905699Z",
     "shell.execute_reply.started": "2024-10-03T17:28:40.859766Z"
    },
    "tags": []
   },
   "outputs": [
    {
     "data": {
      "text/html": [
       "<div>\n",
       "<style scoped>\n",
       "    .dataframe tbody tr th:only-of-type {\n",
       "        vertical-align: middle;\n",
       "    }\n",
       "\n",
       "    .dataframe tbody tr th {\n",
       "        vertical-align: top;\n",
       "    }\n",
       "\n",
       "    .dataframe thead th {\n",
       "        text-align: right;\n",
       "    }\n",
       "</style>\n",
       "<table border=\"1\" class=\"dataframe\">\n",
       "  <thead>\n",
       "    <tr style=\"text-align: right;\">\n",
       "      <th></th>\n",
       "      <th>商店名稱</th>\n",
       "      <th>類別1</th>\n",
       "      <th>類別2</th>\n",
       "      <th>地址</th>\n",
       "      <th>lon</th>\n",
       "      <th>lat</th>\n",
       "      <th>POI類別</th>\n",
       "    </tr>\n",
       "  </thead>\n",
       "  <tbody>\n",
       "    <tr>\n",
       "      <th>0</th>\n",
       "      <td>磨豆花棧</td>\n",
       "      <td>美食佳餚</td>\n",
       "      <td>冰品店</td>\n",
       "      <td>NaN</td>\n",
       "      <td>121.568582</td>\n",
       "      <td>24.987011</td>\n",
       "      <td>吃的</td>\n",
       "    </tr>\n",
       "    <tr>\n",
       "      <th>1</th>\n",
       "      <td>品勝企業社</td>\n",
       "      <td>美食佳餚</td>\n",
       "      <td>冰品店</td>\n",
       "      <td>NaN</td>\n",
       "      <td>121.616739</td>\n",
       "      <td>25.054247</td>\n",
       "      <td>吃的</td>\n",
       "    </tr>\n",
       "    <tr>\n",
       "      <th>2</th>\n",
       "      <td>三一冰淇淋股份有限公司</td>\n",
       "      <td>美食佳餚</td>\n",
       "      <td>冰品店</td>\n",
       "      <td>NaN</td>\n",
       "      <td>121.517058</td>\n",
       "      <td>25.047176</td>\n",
       "      <td>吃的</td>\n",
       "    </tr>\n",
       "    <tr>\n",
       "      <th>3</th>\n",
       "      <td>三一冰淇淋股份有限公司</td>\n",
       "      <td>美食佳餚</td>\n",
       "      <td>冰品店</td>\n",
       "      <td>NaN</td>\n",
       "      <td>121.563904</td>\n",
       "      <td>25.034026</td>\n",
       "      <td>吃的</td>\n",
       "    </tr>\n",
       "    <tr>\n",
       "      <th>4</th>\n",
       "      <td>中敦國際股份有限公司</td>\n",
       "      <td>美食佳餚</td>\n",
       "      <td>冰品店</td>\n",
       "      <td>NaN</td>\n",
       "      <td>121.568380</td>\n",
       "      <td>25.043996</td>\n",
       "      <td>吃的</td>\n",
       "    </tr>\n",
       "  </tbody>\n",
       "</table>\n",
       "</div>"
      ],
      "text/plain": [
       "          商店名稱   類別1  類別2   地址         lon        lat POI類別\n",
       "0         磨豆花棧  美食佳餚  冰品店  NaN  121.568582  24.987011    吃的\n",
       "1        品勝企業社  美食佳餚  冰品店  NaN  121.616739  25.054247    吃的\n",
       "2  三一冰淇淋股份有限公司  美食佳餚  冰品店  NaN  121.517058  25.047176    吃的\n",
       "3  三一冰淇淋股份有限公司  美食佳餚  冰品店  NaN  121.563904  25.034026    吃的\n",
       "4   中敦國際股份有限公司  美食佳餚  冰品店  NaN  121.568380  25.043996    吃的"
      ]
     },
     "execution_count": 36,
     "metadata": {},
     "output_type": "execute_result"
    }
   ],
   "source": [
    "# 檔案名稱：poi_clean_cht.csv \n",
    "# 目的：從中華電信商家黃頁爬蟲下載的 商家地標，用來模擬未來可能潛在合作的商家\n",
    "# 這份資料後續實際應用上，需要由市府與願意合作的商家，陸續去洽談後才是真實資料，屬於地推商業的部分。\n",
    "path = r\"/Users/tim.cho/Documents/project_me/y2024_tppass/poi_clean_cht.csv\"\n",
    "df_chtpoi = pd.read_csv(path)\n",
    "df_chtpoi.head()"
   ]
  },
  {
   "cell_type": "code",
   "execution_count": null,
   "id": "4e73776a",
   "metadata": {},
   "outputs": [],
   "source": []
  },
  {
   "cell_type": "markdown",
   "id": "ee272bb9",
   "metadata": {},
   "source": [
    "## 爬蟲PTT"
   ]
  },
  {
   "cell_type": "code",
   "execution_count": 37,
   "id": "59db9350",
   "metadata": {
    "execution": {
     "iopub.execute_input": "2024-10-03T17:28:54.547196Z",
     "iopub.status.busy": "2024-10-03T17:28:54.546228Z",
     "iopub.status.idle": "2024-10-03T17:28:54.555179Z",
     "shell.execute_reply": "2024-10-03T17:28:54.553690Z",
     "shell.execute_reply.started": "2024-10-03T17:28:54.547124Z"
    },
    "tags": []
   },
   "outputs": [],
   "source": [
    "# PTT 網頁網址，我隨意找尋 近年 3-4個月由 PTT網民 彙整的活動\n",
    "url = [\n",
    "    'https://www.ptt.cc/bbs/Lifeismoney/M.1725495478.A.D8F.html',\n",
    "    'https://www.ptt.cc/bbs/Lifeismoney/M.1724482650.A.EB1.html',\n",
    "    'https://www.ptt.cc/bbs/Lifeismoney/M.1721460420.A.CBD.html',\n",
    "    'https://www.ptt.cc/bbs/Lifeismoney/M.1717436215.A.65A.html']"
   ]
  },
  {
   "cell_type": "code",
   "execution_count": 38,
   "id": "b72445a8",
   "metadata": {
    "execution": {
     "iopub.execute_input": "2024-10-03T17:28:54.746741Z",
     "iopub.status.busy": "2024-10-03T17:28:54.745598Z",
     "iopub.status.idle": "2024-10-03T17:28:56.414580Z",
     "shell.execute_reply": "2024-10-03T17:28:56.414146Z",
     "shell.execute_reply.started": "2024-10-03T17:28:54.746669Z"
    },
    "tags": []
   },
   "outputs": [
    {
     "name": "stdout",
     "output_type": "stream",
     "text": [
      "  成功_抓取:https://www.ptt.cc/bbs/Lifeismoney/M.1725495478.A.D8F.html\n",
      "  成功_抓取:https://www.ptt.cc/bbs/Lifeismoney/M.1724482650.A.EB1.html\n",
      "  成功_抓取:https://www.ptt.cc/bbs/Lifeismoney/M.1721460420.A.CBD.html\n",
      "  成功_抓取:https://www.ptt.cc/bbs/Lifeismoney/M.1717436215.A.65A.html\n"
     ]
    }
   ],
   "source": [
    "list_all_dfs=[]\n",
    "for url_i in url:\n",
    "    try:\n",
    "        response = requests.get(url_i)\n",
    "        # 使用 BeautifulSoup 解析 HTML\n",
    "        soup = BeautifulSoup(response.text, 'html.parser')\n",
    "        article_content = soup.find(id=\"main-content\").text\n",
    "        article_content_no_spaces = re.sub(r'\\s+', '', article_content)\n",
    "        sections = re.split(r'(地區)', article_content_no_spaces)\n",
    "\n",
    "        # 讀取這個網頁的 data，先分成兩大欄位 之後從 內容分別擷取需要的\n",
    "        data = []\n",
    "        for i in range(1, len(sections), 2): \n",
    "            area = sections[i]\n",
    "            content = sections[i + 1]\n",
    "            data.append({'區域': area, '內容': content})\n",
    "        df = pd.DataFrame(data)\n",
    "\n",
    "        # 迴圈分一個個地區分析\n",
    "        list_dfs = []\n",
    "        for i in range(0, len(df['內容'])-2):\n",
    "            try:\n",
    "                content_t = df['內容'][i]\n",
    "                segments = re.split(r'(\\d{1,2}/\\d{1,2}\\(.+?\\)：)', content_t)\n",
    "                #print(f\"成功階段:{url_i}\")\n",
    "                data = []\n",
    "                for i in range(1, len(segments), 2):  # 跳過非日期的部分\n",
    "                    date = segments[i]\n",
    "                    content = segments[i + 1] if i + 1 < len(segments) else \"\"\n",
    "                    data.append({'日期': date, '內容': content.strip()})\n",
    "                df_one_area = pd.DataFrame(data)\n",
    "                # 先將內容中的「▏▎▍▋▊▉」這些字元 後面的部分 都去除\n",
    "                df_one_area['內容'] = df_one_area['內容'].str.replace(r'[▏▎▍▋▊▉].*', '', regex=True)\n",
    "                df_one_area['日期'] = df_one_area['日期'].str.replace(\"：\", \"\")\n",
    "                df_one_area[['日期', '星期']] = df_one_area['日期'].str.extract(r'(\\d+/\\d+)\\((.)\\)')\n",
    "                df_one_area['優惠內容_ori'] = df_one_area['內容'].str.split(\"https:\").str[0]\n",
    "                df_one_area[['捐血地點', '營業時間', '優惠內容']] = df_one_area['優惠內容_ori']\\\n",
    "                                                                .str.extract(r'(.+?)(\\d{2}:\\d{2}~\\d{2}:\\d{2})(.*)?')\n",
    "                df_one_area['圖片網址'] = \"https:\" + df_one_area['內容'].str.split(\"https:\").str[1]\n",
    "                del df_one_area['內容'], df_one_area['優惠內容_ori']\n",
    "                list_dfs.append(df_one_area)\n",
    "            except:\n",
    "                pass\n",
    "        df_地點與活動 = pd.concat(list_dfs).reset_index(drop=True)\n",
    "        df_地點與活動['日期'] = \"2024/\" + df_地點與活動['日期']\n",
    "        df_地點與活動['日期'] = pd.to_datetime(df_地點與活動['日期'])\n",
    "        list_all_dfs.append(df_地點與活動)\n",
    "        print(f\"  成功_抓取:{url_i}\")\n",
    "    except:\n",
    "        print(f\"!!!!失敗的:{url_i}\")"
   ]
  },
  {
   "cell_type": "code",
   "execution_count": 39,
   "id": "1198ce4e",
   "metadata": {
    "execution": {
     "iopub.execute_input": "2024-10-03T17:28:56.415900Z",
     "iopub.status.busy": "2024-10-03T17:28:56.415752Z",
     "iopub.status.idle": "2024-10-03T17:28:56.426246Z",
     "shell.execute_reply": "2024-10-03T17:28:56.425792Z",
     "shell.execute_reply.started": "2024-10-03T17:28:56.415886Z"
    },
    "tags": []
   },
   "outputs": [
    {
     "data": {
      "text/html": [
       "<div>\n",
       "<style scoped>\n",
       "    .dataframe tbody tr th:only-of-type {\n",
       "        vertical-align: middle;\n",
       "    }\n",
       "\n",
       "    .dataframe tbody tr th {\n",
       "        vertical-align: top;\n",
       "    }\n",
       "\n",
       "    .dataframe thead th {\n",
       "        text-align: right;\n",
       "    }\n",
       "</style>\n",
       "<table border=\"1\" class=\"dataframe\">\n",
       "  <thead>\n",
       "    <tr style=\"text-align: right;\">\n",
       "      <th></th>\n",
       "      <th>日期</th>\n",
       "      <th>星期</th>\n",
       "      <th>捐血地點</th>\n",
       "      <th>營業時間</th>\n",
       "      <th>優惠內容</th>\n",
       "      <th>圖片網址</th>\n",
       "    </tr>\n",
       "  </thead>\n",
       "  <tbody>\n",
       "    <tr>\n",
       "      <th>0</th>\n",
       "      <td>2024-09-20</td>\n",
       "      <td>五</td>\n",
       "      <td>桃園內壢家樂福</td>\n",
       "      <td>09:30~16:30</td>\n",
       "      <td>送家樂福禮券$300/$600</td>\n",
       "      <td>https://i.imgur.com/MeqyHSD.jpeg</td>\n",
       "    </tr>\n",
       "    <tr>\n",
       "      <th>1</th>\n",
       "      <td>2024-09-22</td>\n",
       "      <td>日</td>\n",
       "      <td>台南中西區郡緯街和勝堂牌樓前</td>\n",
       "      <td>09:30~17:30</td>\n",
       "      <td>送全聯禮券$250/$600等好禮</td>\n",
       "      <td>https://i.imgur.com/6PTpD03.jpeg</td>\n",
       "    </tr>\n",
       "    <tr>\n",
       "      <th>2</th>\n",
       "      <td>2024-09-29</td>\n",
       "      <td>日</td>\n",
       "      <td>雲林虎尾圖書館</td>\n",
       "      <td>09:00~16:00</td>\n",
       "      <td>送全聯、米、醬油禮盒等，還有抽獎1次/2次#前百名加贈鴨肉羹</td>\n",
       "      <td>https://i.imgur.com/XCzh6ET.jpeg《長期活動》雲林捐血站捐血加...</td>\n",
       "    </tr>\n",
       "    <tr>\n",
       "      <th>3</th>\n",
       "      <td>2024-10-06</td>\n",
       "      <td>日</td>\n",
       "      <td>雲林虎尾國小</td>\n",
       "      <td>08:30~16:00</td>\n",
       "      <td>送米、蛋、醬油禮盒等好禮/加倍送#現場有豐富公益活動</td>\n",
       "      <td>https://i.imgur.com/qDcpVnN.jpeg</td>\n",
       "    </tr>\n",
       "    <tr>\n",
       "      <th>4</th>\n",
       "      <td>2024-11-17</td>\n",
       "      <td>日</td>\n",
       "      <td>台南開山路延平郡王祠前</td>\n",
       "      <td>09:00~16:00</td>\n",
       "      <td>送全聯禮券$200/加倍送，皆有小書包</td>\n",
       "      <td>https://i.imgur.com/IJsc90x.jpeg</td>\n",
       "    </tr>\n",
       "  </tbody>\n",
       "</table>\n",
       "</div>"
      ],
      "text/plain": [
       "          日期 星期            捐血地點         營業時間                            優惠內容  \\\n",
       "0 2024-09-20  五         桃園內壢家樂福  09:30~16:30                 送家樂福禮券$300/$600   \n",
       "1 2024-09-22  日  台南中西區郡緯街和勝堂牌樓前  09:30~17:30               送全聯禮券$250/$600等好禮   \n",
       "2 2024-09-29  日         雲林虎尾圖書館  09:00~16:00  送全聯、米、醬油禮盒等，還有抽獎1次/2次#前百名加贈鴨肉羹   \n",
       "3 2024-10-06  日          雲林虎尾國小  08:30~16:00      送米、蛋、醬油禮盒等好禮/加倍送#現場有豐富公益活動   \n",
       "4 2024-11-17  日     台南開山路延平郡王祠前  09:00~16:00             送全聯禮券$200/加倍送，皆有小書包   \n",
       "\n",
       "                                                圖片網址  \n",
       "0                   https://i.imgur.com/MeqyHSD.jpeg  \n",
       "1                   https://i.imgur.com/6PTpD03.jpeg  \n",
       "2  https://i.imgur.com/XCzh6ET.jpeg《長期活動》雲林捐血站捐血加...  \n",
       "3                   https://i.imgur.com/qDcpVnN.jpeg  \n",
       "4                   https://i.imgur.com/IJsc90x.jpeg  "
      ]
     },
     "execution_count": 39,
     "metadata": {},
     "output_type": "execute_result"
    }
   ],
   "source": [
    "# 基本上可以清出 大多數有用的欄位\n",
    "df_地點與活動_全部 = pd.concat(list_all_dfs)\n",
    "df_地點與活動_全部.head()"
   ]
  },
  {
   "cell_type": "code",
   "execution_count": null,
   "id": "408e1b23",
   "metadata": {},
   "outputs": [],
   "source": []
  },
  {
   "cell_type": "markdown",
   "id": "fa519174-6a37-4039-949a-40fce1205b76",
   "metadata": {},
   "source": [
    "# Gmap api 加上經緯度"
   ]
  },
  {
   "cell_type": "markdown",
   "id": "82e3ef40-d357-4d75-b420-472674f2bca8",
   "metadata": {},
   "source": [
    "## def 定義函數"
   ]
  },
  {
   "cell_type": "code",
   "execution_count": 41,
   "id": "9151fe85-f2e6-4328-b155-192ab48bfbb2",
   "metadata": {
    "execution": {
     "iopub.execute_input": "2024-10-03T17:29:54.361639Z",
     "iopub.status.busy": "2024-10-03T17:29:54.360954Z",
     "iopub.status.idle": "2024-10-03T17:29:54.376788Z",
     "shell.execute_reply": "2024-10-03T17:29:54.375593Z",
     "shell.execute_reply.started": "2024-10-03T17:29:54.361592Z"
    },
    "tags": []
   },
   "outputs": [],
   "source": [
    "# 定義地址 簡單清理的函數  #後來發現不用用到也可以\n",
    "# def convert_number_to_chinese(num_str):\n",
    "#     num_dict = {'0': '零', '1': '一', '2': '二', '3': '三', '4': '四', '5': '五',\n",
    "#                 '6': '六', '7': '七', '8': '八', '9': '九'}\n",
    "#     chinese_num = ''.join([num_dict[char] for char in num_str])\n",
    "#     return chinese_num\n",
    "# def replace_num2ch(address):\n",
    "#     pattern = r'(\\d+)段'\n",
    "#     def replace_match(match):\n",
    "#         num_str = match.group(1)\n",
    "#         chinese_num = convert_number_to_chinese(num_str)\n",
    "#         return chinese_num + '段'\n",
    "#     new_address = re.sub(pattern, replace_match, address)\n",
    "#     return new_address\n",
    "\n",
    "# 地址欄位 除了標準地址以外，也適用類似「地標」名稱的\n",
    "# 記得替換成自己 google map api_key 'AAAAA11111'!!!!!!!!!!!!!!!!!\n",
    "API_KEY = 'AAAAA11111'\n",
    "def catch_coord(address_t):\n",
    "    # 將地標名稱或地址中的空格轉換為 '+'\n",
    "    params = {'key': API_KEY, 'address': address_t.replace(' ', '+'), 'language': 'zh-TW'}\n",
    "    # Geocoding API 的基本 URL\n",
    "    base_url = 'https://maps.googleapis.com/maps/api/geocode/json?'\n",
    "    response = requests.get(base_url, params=params)\n",
    "    data = response.json()\n",
    "    if data['status'] == 'OK':\n",
    "        result = data['results'][0]\n",
    "        location = result['geometry']['location']\n",
    "        g_address = data['results'][0]['formatted_address']\n",
    "        list_item_t = [address_t, g_address, location['lat'], location['lng']]\n",
    "        return list_item_t\n",
    "    else:\n",
    "        # 當地標無法找到時，返回預設值\n",
    "        list_item_t = [address_t, '-', 0, 0]\n",
    "        return list_item_t"
   ]
  },
  {
   "cell_type": "code",
   "execution_count": null,
   "id": "c3d5924d-7018-47ee-aa68-0f5b0a12761c",
   "metadata": {},
   "outputs": [],
   "source": []
  },
  {
   "cell_type": "markdown",
   "id": "5f252687-ef97-43e0-a837-0bc0e7e2c77c",
   "metadata": {},
   "source": [
    "## 執行加經緯度 func"
   ]
  },
  {
   "cell_type": "code",
   "execution_count": 46,
   "id": "5486fb37-0274-4df3-8b83-9886ebfdc02e",
   "metadata": {
    "execution": {
     "iopub.execute_input": "2024-10-03T17:30:31.179674Z",
     "iopub.status.busy": "2024-10-03T17:30:31.179128Z",
     "iopub.status.idle": "2024-10-03T17:30:31.199108Z",
     "shell.execute_reply": "2024-10-03T17:30:31.198514Z",
     "shell.execute_reply.started": "2024-10-03T17:30:31.179638Z"
    },
    "tags": []
   },
   "outputs": [
    {
     "data": {
      "text/html": [
       "<div>\n",
       "<style scoped>\n",
       "    .dataframe tbody tr th:only-of-type {\n",
       "        vertical-align: middle;\n",
       "    }\n",
       "\n",
       "    .dataframe tbody tr th {\n",
       "        vertical-align: top;\n",
       "    }\n",
       "\n",
       "    .dataframe thead th {\n",
       "        text-align: right;\n",
       "    }\n",
       "</style>\n",
       "<table border=\"1\" class=\"dataframe\">\n",
       "  <thead>\n",
       "    <tr style=\"text-align: right;\">\n",
       "      <th></th>\n",
       "      <th>日期</th>\n",
       "      <th>星期</th>\n",
       "      <th>捐血地點</th>\n",
       "      <th>營業時間</th>\n",
       "      <th>優惠內容</th>\n",
       "      <th>圖片網址</th>\n",
       "    </tr>\n",
       "  </thead>\n",
       "  <tbody>\n",
       "    <tr>\n",
       "      <th>0</th>\n",
       "      <td>2024-09-20</td>\n",
       "      <td>五</td>\n",
       "      <td>桃園內壢家樂福</td>\n",
       "      <td>09:30~16:30</td>\n",
       "      <td>送家樂福禮券$300/$600</td>\n",
       "      <td>https://i.imgur.com/MeqyHSD.jpeg</td>\n",
       "    </tr>\n",
       "    <tr>\n",
       "      <th>1</th>\n",
       "      <td>2024-09-22</td>\n",
       "      <td>日</td>\n",
       "      <td>台南中西區郡緯街和勝堂牌樓前</td>\n",
       "      <td>09:30~17:30</td>\n",
       "      <td>送全聯禮券$250/$600等好禮</td>\n",
       "      <td>https://i.imgur.com/6PTpD03.jpeg</td>\n",
       "    </tr>\n",
       "    <tr>\n",
       "      <th>2</th>\n",
       "      <td>2024-09-29</td>\n",
       "      <td>日</td>\n",
       "      <td>雲林虎尾圖書館</td>\n",
       "      <td>09:00~16:00</td>\n",
       "      <td>送全聯、米、醬油禮盒等，還有抽獎1次/2次#前百名加贈鴨肉羹</td>\n",
       "      <td>https://i.imgur.com/XCzh6ET.jpeg《長期活動》雲林捐血站捐血加...</td>\n",
       "    </tr>\n",
       "  </tbody>\n",
       "</table>\n",
       "</div>"
      ],
      "text/plain": [
       "          日期 星期            捐血地點         營業時間                            優惠內容  \\\n",
       "0 2024-09-20  五         桃園內壢家樂福  09:30~16:30                 送家樂福禮券$300/$600   \n",
       "1 2024-09-22  日  台南中西區郡緯街和勝堂牌樓前  09:30~17:30               送全聯禮券$250/$600等好禮   \n",
       "2 2024-09-29  日         雲林虎尾圖書館  09:00~16:00  送全聯、米、醬油禮盒等，還有抽獎1次/2次#前百名加贈鴨肉羹   \n",
       "\n",
       "                                                圖片網址  \n",
       "0                   https://i.imgur.com/MeqyHSD.jpeg  \n",
       "1                   https://i.imgur.com/6PTpD03.jpeg  \n",
       "2  https://i.imgur.com/XCzh6ET.jpeg《長期活動》雲林捐血站捐血加...  "
      ]
     },
     "execution_count": 46,
     "metadata": {},
     "output_type": "execute_result"
    }
   ],
   "source": [
    "# 準備清理，address_t 就是我要置入的欄位名稱\n",
    "df_miss = df_地點與活動_全部.copy()\n",
    "address_t = \"捐血地點\"\n",
    "df_miss.head(3)"
   ]
  },
  {
   "cell_type": "code",
   "execution_count": null,
   "id": "208ccb77-0a3b-467f-8ce4-f38fad9cd13e",
   "metadata": {},
   "outputs": [],
   "source": [
    "# 用這一串 取出地址變數並迴圈執行\n",
    "list_gmap_use = list(set(df_miss[f'{address_t}']))\n",
    "list_dfs=[]\n",
    "for poi_sp in list_gmap_use:\n",
    "    try:\n",
    "        list_t = catch_coord(poi_sp)\n",
    "        list_dfs.append(list_t)\n",
    "        time.sleep(0.3)\n",
    "    except:\n",
    "        list_t = [poi_sp, \"-\", 0, 0]\n",
    "        list_dfs.append(list_t)\n",
    "        time.sleep(0.3)\n",
    "        print(f\"{poi_sp} 失敗了！\")\n",
    "        \n",
    "df_gmap_result = pd.DataFrame(list_dfs)\n",
    "df_gmap_result.columns = [f'{address_t}','g地址','lat','lon']"
   ]
  },
  {
   "cell_type": "code",
   "execution_count": null,
   "id": "389b9194-ccb0-441b-a8b0-44f13aa85f6c",
   "metadata": {},
   "outputs": [],
   "source": [
    "df_miss_m = df_miss.merge(df_gmap_result, on=[f'{address_t}'])\\\n",
    "                   .reset_index(drop=True)\n",
    "df_miss_m.head()"
   ]
  },
  {
   "cell_type": "code",
   "execution_count": null,
   "id": "a619e417-8e7a-4f5e-8ce2-041ce4e27913",
   "metadata": {},
   "outputs": [],
   "source": []
  },
  {
   "cell_type": "code",
   "execution_count": 253,
   "id": "46a775f9",
   "metadata": {
    "execution": {
     "iopub.execute_input": "2024-09-07T07:48:25.404274Z",
     "iopub.status.busy": "2024-09-07T07:48:25.403475Z",
     "iopub.status.idle": "2024-09-07T07:48:25.428009Z",
     "shell.execute_reply": "2024-09-07T07:48:25.427173Z",
     "shell.execute_reply.started": "2024-09-07T07:48:25.404230Z"
    }
   },
   "outputs": [
    {
     "data": {
      "text/html": [
       "<div>\n",
       "<style scoped>\n",
       "    .dataframe tbody tr th:only-of-type {\n",
       "        vertical-align: middle;\n",
       "    }\n",
       "\n",
       "    .dataframe tbody tr th {\n",
       "        vertical-align: top;\n",
       "    }\n",
       "\n",
       "    .dataframe thead th {\n",
       "        text-align: right;\n",
       "    }\n",
       "</style>\n",
       "<table border=\"1\" class=\"dataframe\">\n",
       "  <thead>\n",
       "    <tr style=\"text-align: right;\">\n",
       "      <th></th>\n",
       "      <th>日期</th>\n",
       "      <th>星期</th>\n",
       "      <th>捐血地點</th>\n",
       "      <th>營業時間</th>\n",
       "      <th>優惠內容</th>\n",
       "      <th>圖片網址</th>\n",
       "      <th>g地址</th>\n",
       "      <th>lat</th>\n",
       "      <th>lon</th>\n",
       "    </tr>\n",
       "  </thead>\n",
       "  <tbody>\n",
       "    <tr>\n",
       "      <th>0</th>\n",
       "      <td>2024-09-06</td>\n",
       "      <td>五</td>\n",
       "      <td>新北板橋車站北二門</td>\n",
       "      <td>09:30~16:30</td>\n",
       "      <td>送全聯禮券$300/$600</td>\n",
       "      <td>https://i.imgur.com/KIHoXBz.jpeg</td>\n",
       "      <td>220台灣新北市板橋區縣民大道二段7號板橋車站</td>\n",
       "      <td>25.014050</td>\n",
       "      <td>121.463810</td>\n",
       "    </tr>\n",
       "    <tr>\n",
       "      <th>1</th>\n",
       "      <td>2024-09-08</td>\n",
       "      <td>日</td>\n",
       "      <td>新北泰山文程廣場</td>\n",
       "      <td>09:00~16:30</td>\n",
       "      <td>送米、蛋、熱敷眼罩.衛生紙/加倍送#現場有免費血糖檢測、義剪、精油按摩活動</td>\n",
       "      <td>https://i.imgur.com/TiygrRQ.jpeg</td>\n",
       "      <td>243台灣新北市泰山區明志路二段194號文程廣場</td>\n",
       "      <td>25.050413</td>\n",
       "      <td>121.427898</td>\n",
       "    </tr>\n",
       "    <tr>\n",
       "      <th>2</th>\n",
       "      <td>2024-09-08</td>\n",
       "      <td>日</td>\n",
       "      <td>北市二二八公園</td>\n",
       "      <td>10:00~18:00</td>\n",
       "      <td></td>\n",
       "      <td>NaN</td>\n",
       "      <td>100台灣台北市中正區凱達格蘭大道3號二二八和平公園</td>\n",
       "      <td>25.040298</td>\n",
       "      <td>121.515545</td>\n",
       "    </tr>\n",
       "    <tr>\n",
       "      <th>3</th>\n",
       "      <td>2024-11-17</td>\n",
       "      <td>日</td>\n",
       "      <td>新北中和中安街圖書館旁</td>\n",
       "      <td>09:00~17:00</td>\n",
       "      <td>送牛排</td>\n",
       "      <td>https://i.imgur.com/UyHtda0.jpeg</td>\n",
       "      <td>235台灣新北市中和區中安街85號</td>\n",
       "      <td>25.001429</td>\n",
       "      <td>121.512703</td>\n",
       "    </tr>\n",
       "    <tr>\n",
       "      <th>4</th>\n",
       "      <td>2024-09-09</td>\n",
       "      <td>一</td>\n",
       "      <td>新北汐止派出所</td>\n",
       "      <td>09:30~16:30</td>\n",
       "      <td>送牛排、蛋、三合一充電線/加倍送</td>\n",
       "      <td>https://i.imgur.com/04gl848.jpeg</td>\n",
       "      <td>221台灣新北市汐止區大同路二段459號</td>\n",
       "      <td>25.068018</td>\n",
       "      <td>121.659948</td>\n",
       "    </tr>\n",
       "  </tbody>\n",
       "</table>\n",
       "</div>"
      ],
      "text/plain": [
       "          日期 星期         捐血地點         營業時間  \\\n",
       "0 2024-09-06  五    新北板橋車站北二門  09:30~16:30   \n",
       "1 2024-09-08  日     新北泰山文程廣場  09:00~16:30   \n",
       "2 2024-09-08  日      北市二二八公園  10:00~18:00   \n",
       "3 2024-11-17  日  新北中和中安街圖書館旁  09:00~17:00   \n",
       "4 2024-09-09  一      新北汐止派出所  09:30~16:30   \n",
       "\n",
       "                                    優惠內容                              圖片網址  \\\n",
       "0                         送全聯禮券$300/$600  https://i.imgur.com/KIHoXBz.jpeg   \n",
       "1  送米、蛋、熱敷眼罩.衛生紙/加倍送#現場有免費血糖檢測、義剪、精油按摩活動  https://i.imgur.com/TiygrRQ.jpeg   \n",
       "2                                                                      NaN   \n",
       "3                                    送牛排  https://i.imgur.com/UyHtda0.jpeg   \n",
       "4                       送牛排、蛋、三合一充電線/加倍送  https://i.imgur.com/04gl848.jpeg   \n",
       "\n",
       "                          g地址        lat         lon  \n",
       "0     220台灣新北市板橋區縣民大道二段7號板橋車站  25.014050  121.463810  \n",
       "1    243台灣新北市泰山區明志路二段194號文程廣場  25.050413  121.427898  \n",
       "2  100台灣台北市中正區凱達格蘭大道3號二二八和平公園  25.040298  121.515545  \n",
       "3           235台灣新北市中和區中安街85號  25.001429  121.512703  \n",
       "4        221台灣新北市汐止區大同路二段459號  25.068018  121.659948  "
      ]
     },
     "execution_count": 253,
     "metadata": {},
     "output_type": "execute_result"
    }
   ],
   "source": [
    "## 用 gmap api 轉換捐血地點的經緯度地址的成果\n",
    "df_地點與活動_gmap = df_miss_m.copy()\n",
    "df_地點與活動_gmap.head()"
   ]
  },
  {
   "cell_type": "code",
   "execution_count": 255,
   "id": "8d8a2f8e",
   "metadata": {
    "execution": {
     "iopub.execute_input": "2024-09-07T07:49:16.773433Z",
     "iopub.status.busy": "2024-09-07T07:49:16.772755Z",
     "iopub.status.idle": "2024-09-07T07:49:16.784262Z",
     "shell.execute_reply": "2024-09-07T07:49:16.782938Z",
     "shell.execute_reply.started": "2024-09-07T07:49:16.773384Z"
    }
   },
   "outputs": [],
   "source": [
    "# 捐血活動位置\n",
    "path_out = r\"/Users/tim.cho/Documents/project_me/y2024_tppass/捐血活動優惠_最新月份.csv\"\n",
    "df_地點與活動_gmap.to_csv(path_out, index=False)"
   ]
  },
  {
   "cell_type": "code",
   "execution_count": null,
   "id": "d52a5804",
   "metadata": {},
   "outputs": [],
   "source": []
  },
  {
   "cell_type": "code",
   "execution_count": null,
   "id": "17f1ac0c-1b90-4714-ad81-d766fbf3e363",
   "metadata": {},
   "outputs": [],
   "source": []
  }
 ],
 "metadata": {
  "kernelspec": {
   "display_name": "mac_k2",
   "language": "python",
   "name": "mac_k2"
  },
  "language_info": {
   "codemirror_mode": {
    "name": "ipython",
    "version": 3
   },
   "file_extension": ".py",
   "mimetype": "text/x-python",
   "name": "python",
   "nbconvert_exporter": "python",
   "pygments_lexer": "ipython3",
   "version": "3.7.16"
  },
  "toc-autonumbering": true
 },
 "nbformat": 4,
 "nbformat_minor": 5
}
